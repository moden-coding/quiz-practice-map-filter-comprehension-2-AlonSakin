{
 "cells": [
  {
   "cell_type": "markdown",
   "id": "c5d33370",
   "metadata": {
    "id": "c5d33370"
   },
   "source": [
    "#Practice Quiz 2 — Weather Snapshots\n",
    "\n",
    "**Instructions:**  \n",
    "- You will work directly in this notebook.  \n",
    "- Keep your answers in the provided `# TODO` cells. Do not delete the original dataset cells.\n",
    "- Space is provided to show your solution as comprehension or as a filter/map function. Choose 1 to get an A, do both to get an A+\n",
    "---\n",
    "\n",
    "---\n"
   ]
  },
  {
   "cell_type": "markdown",
   "id": "2a7cb121",
   "metadata": {
    "id": "2a7cb121"
   },
   "source": [
    "**Dataset:** Daily weather snapshots: `date`, `tmax` (°F), `tmin` (°F), `precip` (inches) for late summer in New England.\n"
   ]
  },
  {
   "cell_type": "code",
   "execution_count": 1,
   "id": "87f052be",
   "metadata": {
    "colab": {
     "base_uri": "https://localhost:8080/"
    },
    "id": "87f052be",
    "outputId": "1d5751c4-d025-4233-bb09-6c484d5ae43e"
   },
   "outputs": [
    {
     "data": {
      "text/plain": [
       "(11,\n",
       " [('2025-08-24', 83, 66, 0.0),\n",
       "  ('2025-08-25', 88, 70, 0.1),\n",
       "  ('2025-08-26', 90, 72, 0.0)])"
      ]
     },
     "execution_count": 1,
     "metadata": {},
     "output_type": "execute_result"
    }
   ],
   "source": [
    "\n",
    "# ----- DATA: Weather -----\n",
    "weather = [\n",
    "    (\"2025-08-24\", 83, 66, 0.00),\n",
    "    (\"2025-08-25\", 88, 70, 0.10),\n",
    "    (\"2025-08-26\", 90, 72, 0.00),\n",
    "    (\"2025-08-27\", 77, 63, 0.45),\n",
    "    (\"2025-08-28\", 79, 61, 0.00),\n",
    "    (\"2025-08-29\", 81, 60, 0.00),\n",
    "    (\"2025-08-30\", 74, 58, 0.30),\n",
    "    (\"2025-08-31\", 76, 60, 0.00),\n",
    "    (\"2025-09-01\", 84, 67, 0.05),\n",
    "    (\"2025-09-02\", 86, 68, 0.00),\n",
    "    (\"2025-09-03\", 63, 40, 0.00),\n",
    "]\n",
    "len(weather), weather[:3]\n"
   ]
  },
  {
   "cell_type": "markdown",
   "id": "8115e74a",
   "metadata": {
    "id": "8115e74a"
   },
   "source": [
    "\n",
    "### Tasks\n",
    "1. Create a **list** `big_swings` of dates where the daily temperature swing `(tmax - tmin)` ≥ 20°F. **Important note: I only want the dates for this, not all of the data. **\n"
   ]
  },
  {
   "cell_type": "code",
   "execution_count": 17,
   "id": "aG0vg-1vZ863",
   "metadata": {
    "id": "aG0vg-1vZ863"
   },
   "outputs": [],
   "source": [
    "big_swings = [data[0] for data in weather if (data[1] - data[2]) >= 20]"
   ]
  },
  {
   "cell_type": "code",
   "execution_count": 18,
   "id": "jIImqNW1Z_AZ",
   "metadata": {
    "id": "jIImqNW1Z_AZ"
   },
   "outputs": [
    {
     "data": {
      "text/plain": [
       "['2025-08-29', '2025-09-03']"
      ]
     },
     "execution_count": 18,
     "metadata": {},
     "output_type": "execute_result"
    }
   ],
   "source": [
    "big_swings"
   ]
  },
  {
   "cell_type": "markdown",
   "id": "K9Mtm3BAZ_Wv",
   "metadata": {
    "id": "K9Mtm3BAZ_Wv"
   },
   "source": [
    "2. Create a **list** `dry_and_mild` of `(date, avg_temp)` for days with `precip == 0` and average temperature between 68°F and 78°F inclusive. Average in this case can be found using the high and low value for the day\n"
   ]
  },
  {
   "cell_type": "code",
   "execution_count": 44,
   "id": "t1ByHHE3Z_ar",
   "metadata": {
    "id": "t1ByHHE3Z_ar"
   },
   "outputs": [],
   "source": [
    "dry_and_mild = [(data[0], (data[1] + data[2])/2) for data in weather if not data[3] and 68 <= (data[1] + data[2])/2 <= 78]"
   ]
  },
  {
   "cell_type": "code",
   "execution_count": 45,
   "id": "Yj4gl5QndQjn",
   "metadata": {
    "id": "Yj4gl5QndQjn"
   },
   "outputs": [
    {
     "data": {
      "text/plain": [
       "[('2025-08-24', 74.5),\n",
       " ('2025-08-28', 70.0),\n",
       " ('2025-08-29', 70.5),\n",
       " ('2025-08-31', 68.0),\n",
       " ('2025-09-02', 77.0)]"
      ]
     },
     "execution_count": 45,
     "metadata": {},
     "output_type": "execute_result"
    }
   ],
   "source": [
    "dry_and_mild"
   ]
  },
  {
   "cell_type": "code",
   "execution_count": null,
   "id": "6Fs55SSiZ_eU",
   "metadata": {
    "id": "6Fs55SSiZ_eU"
   },
   "outputs": [],
   "source": []
  },
  {
   "cell_type": "code",
   "execution_count": null,
   "id": "ZQkxB2Gbek4A",
   "metadata": {
    "id": "ZQkxB2Gbek4A"
   },
   "outputs": [],
   "source": []
  },
  {
   "cell_type": "markdown",
   "id": "pzFk0oQrZ_hp",
   "metadata": {
    "id": "pzFk0oQrZ_hp"
   },
   "source": [
    "3. Build a **dict** `date_to_flags` mapping `date -> {\"hot\": bool, \"wet\": bool}` where `hot` is when the max temperature is ≥ 85`, `wet` is when precipitation is ≥ 0.1.\n"
   ]
  },
  {
   "cell_type": "code",
   "execution_count": 51,
   "id": "b4jRacdFZ_lX",
   "metadata": {
    "id": "b4jRacdFZ_lX"
   },
   "outputs": [],
   "source": [
    "date_to_flags={d[0]:{\"hot\":d[1]>=85,\"wet\":d[3]>=.1}for d in weather}"
   ]
  },
  {
   "cell_type": "code",
   "execution_count": 52,
   "id": "e2K06364Z_pT",
   "metadata": {
    "id": "e2K06364Z_pT"
   },
   "outputs": [
    {
     "data": {
      "text/plain": [
       "{'2025-08-24': {'hot': False, 'wet': False},\n",
       " '2025-08-25': {'hot': True, 'wet': True},\n",
       " '2025-08-26': {'hot': True, 'wet': False},\n",
       " '2025-08-27': {'hot': False, 'wet': True},\n",
       " '2025-08-28': {'hot': False, 'wet': False},\n",
       " '2025-08-29': {'hot': False, 'wet': False},\n",
       " '2025-08-30': {'hot': False, 'wet': True},\n",
       " '2025-08-31': {'hot': False, 'wet': False},\n",
       " '2025-09-01': {'hot': False, 'wet': False},\n",
       " '2025-09-02': {'hot': True, 'wet': False},\n",
       " '2025-09-03': {'hot': False, 'wet': False}}"
      ]
     },
     "execution_count": 52,
     "metadata": {},
     "output_type": "execute_result"
    }
   ],
   "source": [
    "date_to_flags"
   ]
  },
  {
   "cell_type": "code",
   "execution_count": null,
   "id": "81d0dfa8-f24b-4474-a0e8-ce2dba9ec426",
   "metadata": {},
   "outputs": [],
   "source": []
  }
 ],
 "metadata": {
  "colab": {
   "provenance": []
  },
  "kernelspec": {
   "display_name": "Python 3 (ipykernel)",
   "language": "python",
   "name": "python3"
  },
  "language_info": {
   "codemirror_mode": {
    "name": "ipython",
    "version": 3
   },
   "file_extension": ".py",
   "mimetype": "text/x-python",
   "name": "python",
   "nbconvert_exporter": "python",
   "pygments_lexer": "ipython3",
   "version": "3.13.5"
  }
 },
 "nbformat": 4,
 "nbformat_minor": 5
}
